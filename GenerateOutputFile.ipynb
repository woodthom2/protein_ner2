{
 "cells": [
  {
   "cell_type": "code",
   "execution_count": null,
   "metadata": {
    "collapsed": true
   },
   "outputs": [],
   "source": [
    "import os\n",
    "DATA_DIR = os.environ['RNN_HOME']"
   ]
  },
  {
   "cell_type": "code",
   "execution_count": null,
   "metadata": {
    "collapsed": false
   },
   "outputs": [],
   "source": []
  },
  {
   "cell_type": "code",
   "execution_count": null,
   "metadata": {
    "collapsed": true
   },
   "outputs": [],
   "source": [
    "raw_dir = DATA_DIR + \"raw/\"\n",
    "preprocessed_dir = DATA_DIR + \"preprocessed/\"\n",
    "output_dir = DATA_DIR + \"output/\""
   ]
  },
  {
   "cell_type": "code",
   "execution_count": null,
   "metadata": {
    "collapsed": true
   },
   "outputs": [],
   "source": [
    "raw_text_file = raw_dir + 'protein-test.txt'\n",
    "\n",
    "parser_output_file = DATA_DIR + 'train/brain_pos/greedy/128-0.08-3600-0.9-0/tagged-dev-corpus'\n",
    "\n",
    "output_file = output_dir + \"protein-predicted.txt\""
   ]
  },
  {
   "cell_type": "markdown",
   "metadata": {},
   "source": [
    "Load the whole test corpus as a string"
   ]
  },
  {
   "cell_type": "code",
   "execution_count": null,
   "metadata": {
    "collapsed": true
   },
   "outputs": [],
   "source": [
    "total_string = \"\"\n",
    "with open(raw_text_file, 'r') as f:\n",
    "    for l in f:\n",
    "        total_string += l"
   ]
  },
  {
   "cell_type": "code",
   "execution_count": null,
   "metadata": {
    "collapsed": false
   },
   "outputs": [],
   "source": [
    "char_index = 0\n",
    "\n",
    "current_protein = None\n",
    "proteins = []\n",
    "\n",
    "import csv\n",
    "\n",
    "counter = 0\n",
    "    \n",
    "with open(parser_output_file, \"r\") as f:\n",
    "    tsvin = csv.reader(f, delimiter='\\t')\n",
    "    for cols in tsvin:\n",
    "        counter += 1\n",
    "        '''\n",
    "        if counter > 10:\n",
    "            break\n",
    "        '''\n",
    "        if len(cols) < 4:\n",
    "            continue\n",
    "        token = cols[1]\n",
    "        tag = cols[3]\n",
    "\n",
    "        char_index = total_string.index(token, char_index)\n",
    "        \n",
    "        if (tag == \"O\" or tag == \"BPROTEIN\") and current_protein is not None:            \n",
    "            proteins.append((current_protein[\"start\"], current_protein[\"end\"]))\n",
    "            current_protein = None\n",
    "        if tag == \"BPROTEIN\":\n",
    "            current_protein = {\"start\":char_index}\n",
    "        if current_protein is not None:\n",
    "            current_protein[\"end\"] = char_index + len(token)\n",
    "            \n",
    "if current_protein is not None:\n",
    "    proteins.append((current_protein[\"start\"], current_protein[\"end\"]))"
   ]
  },
  {
   "cell_type": "code",
   "execution_count": null,
   "metadata": {
    "collapsed": false
   },
   "outputs": [],
   "source": [
    "token"
   ]
  },
  {
   "cell_type": "code",
   "execution_count": null,
   "metadata": {
    "collapsed": false
   },
   "outputs": [],
   "source": [
    "with open(output_file, \"w\") as f_test:\n",
    "    output_writer = csv.writer(f_test, delimiter='\\t')\n",
    "    output_writer.writerow([\"ExampleID\", \"Class\", \"Start\", \"End\", \"Entity\"])\n",
    "    for index, protein in enumerate(proteins):\n",
    "        cols = [\"T\" + str(index+1), \"Protein\", protein[0], protein[1], total_string[protein[0]:protein[1]]]\n",
    "        output_writer.writerow(cols)"
   ]
  },
  {
   "cell_type": "code",
   "execution_count": null,
   "metadata": {
    "collapsed": true
   },
   "outputs": [],
   "source": []
  }
 ],
 "metadata": {
  "anaconda-cloud": {},
  "kernelspec": {
   "display_name": "Python [default]",
   "language": "python",
   "name": "python2"
  },
  "language_info": {
   "codemirror_mode": {
    "name": "ipython",
    "version": 2
   },
   "file_extension": ".py",
   "mimetype": "text/x-python",
   "name": "python",
   "nbconvert_exporter": "python",
   "pygments_lexer": "ipython2",
   "version": "2.7.12"
  }
 },
 "nbformat": 4,
 "nbformat_minor": 0
}
